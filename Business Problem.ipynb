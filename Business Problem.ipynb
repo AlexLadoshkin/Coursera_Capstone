{
    "nbformat_minor": 1, 
    "cells": [
        {
            "source": "# Introduction/Business Problem", 
            "cell_type": "markdown", 
            "metadata": {
                "collapsed": true
            }
        }, 
        {
            "source": "The main problem in many cities is to choose right place corretly, as there are a lot of barbershops in every city, every new business man should determine right place for opening new one. There are a few criteries:\n1. To choose right place in sleeping quarters where people can visit place often\n2. To avoid huge competition. It means people prefer visit old well-known place which trusted by many people.\n\nThis problem can be solved with accurate analysis of data with using geo datas from different sources\n", 
            "cell_type": "markdown", 
            "metadata": {}
        }, 
        {
            "source": "# Necessary Data", 
            "cell_type": "markdown", 
            "metadata": {}
        }, 
        {
            "source": "In my project I need use data from Foursquare  because this platform provide rather complete and accurate dates about all places what I need. In addition this platform can give additional information about tips and rating given venue. And these dates can be used to determine clusters of popular barbershops and where right place to open new one", 
            "cell_type": "markdown", 
            "metadata": {}
        }
    ], 
    "metadata": {
        "kernelspec": {
            "display_name": "Python 3.5 with Spark", 
            "name": "python3", 
            "language": "python3"
        }, 
        "language_info": {
            "mimetype": "text/x-python", 
            "nbconvert_exporter": "python", 
            "version": "3.5.4", 
            "name": "python", 
            "file_extension": ".py", 
            "pygments_lexer": "ipython3", 
            "codemirror_mode": {
                "version": 3, 
                "name": "ipython"
            }
        }
    }, 
    "nbformat": 4
}