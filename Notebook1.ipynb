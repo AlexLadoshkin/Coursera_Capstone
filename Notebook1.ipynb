{
    "nbformat_minor": 1, 
    "cells": [
        {
            "execution_count": 1, 
            "cell_type": "code", 
            "metadata": {}, 
            "outputs": [
                {
                    "output_type": "stream", 
                    "name": "stdout", 
                    "text": "Waiting for a Spark session to start...\nSpark Initialization Done! ApplicationId = app-20181015133006-0000\n"
                }
            ], 
            "source": "from bs4 import BeautifulSoup\nimport pandas as pd\nimport urllib3"
        }, 
        {
            "source": "#### Scraping wiki web page", 
            "cell_type": "markdown", 
            "metadata": {}
        }, 
        {
            "execution_count": 2, 
            "cell_type": "code", 
            "metadata": {}, 
            "outputs": [
                {
                    "output_type": "stream", 
                    "name": "stderr", 
                    "text": "/opt/ibm/conda/miniconda3/lib/python3.5/site-packages/urllib3/connectionpool.py:858: InsecureRequestWarning: Unverified HTTPS request is being made. Adding certificate verification is strongly advised. See: https://urllib3.readthedocs.io/en/latest/advanced-usage.html#ssl-warnings\n  InsecureRequestWarning)\n/opt/ibm/conda/miniconda3/lib/python3.5/site-packages/bs4/__init__.py:181: UserWarning: No parser was explicitly specified, so I'm using the best available HTML parser for this system (\"lxml\"). This usually isn't a problem, but if you run this code on another system, or in a different virtual environment, it may use a different parser and behave differently.\n\nThe code that caused this warning is on line 193 of the file /opt/ibm/conda/miniconda3/lib/python3.5/runpy.py. To get rid of this warning, change code that looks like this:\n\n BeautifulSoup(YOUR_MARKUP})\n\nto this:\n\n BeautifulSoup(YOUR_MARKUP, \"lxml\")\n\n  markup_type=markup_type))\n"
                }
            ], 
            "source": "http = urllib3.PoolManager()\nurl = \"https://en.wikipedia.org/wiki/List_of_postal_codes_of_Canada:_M\"\nresponse = http.request('GET', url)\nsoup = BeautifulSoup(response.data)\ndata = []\ncolname=[]\ntable=soup.find('table', attrs={'class': 'wikitable sortable'})\ntable\ntable_body = table.find('tbody')\ntable_body\ncolsname=table_body.find_all('th')\ncolsname=[ele.text.strip() for ele in colsname]\nrows = table_body.find_all('tr')\nfor row in rows:\n    cols = row.find_all('td')\n    cols = [ele.text.strip() for ele in cols]\n    data.append([ele for ele in cols if ele])"
        }, 
        {
            "source": "#### creating dataframe", 
            "cell_type": "markdown", 
            "metadata": {}
        }, 
        {
            "execution_count": 29, 
            "cell_type": "code", 
            "metadata": {}, 
            "outputs": [], 
            "source": "df = pd.DataFrame.from_records(data, columns=colsname)"
        }, 
        {
            "source": "#### filtering all conditions \n", 
            "cell_type": "markdown", 
            "metadata": {}
        }, 
        {
            "execution_count": 30, 
            "cell_type": "code", 
            "metadata": {}, 
            "outputs": [
                {
                    "execution_count": 30, 
                    "metadata": {}, 
                    "data": {
                        "text/plain": "(103, 3)"
                    }, 
                    "output_type": "execute_result"
                }
            ], 
            "source": "df=df.drop([0,0],axis=0)\ndf=df[(df.Borough != 'Not assigned') | (df.Neighbourhood !='Not assigned')]\ndf=df.reset_index(drop=True)\ndf=df.groupby(['Postcode','Borough'])['Neighbourhood'].apply(','.join).reset_index()\ndf.loc[df['Neighbourhood'] == 'Not assigned', 'Neighbourhood'] = df['Borough']\ndf.shape"
        }, 
        {
            "execution_count": null, 
            "cell_type": "code", 
            "metadata": {}, 
            "outputs": [], 
            "source": ""
        }
    ], 
    "metadata": {
        "kernelspec": {
            "display_name": "Python 3.5 with Spark", 
            "name": "python3", 
            "language": "python3"
        }, 
        "language_info": {
            "mimetype": "text/x-python", 
            "nbconvert_exporter": "python", 
            "version": "3.5.4", 
            "name": "python", 
            "file_extension": ".py", 
            "pygments_lexer": "ipython3", 
            "codemirror_mode": {
                "version": 3, 
                "name": "ipython"
            }
        }
    }, 
    "nbformat": 4
}